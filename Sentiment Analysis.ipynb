{
 "cells": [
  {
   "cell_type": "code",
   "execution_count": 1,
   "id": "59e36e4f-ca30-44ed-a78d-ebc2b231329c",
   "metadata": {},
   "outputs": [],
   "source": [
    "import pandas as pd\n",
    "import numpy as np\n",
    "import seaborn as sns\n",
    "from matplotlib import pyplot as plt\n",
    "import math\n",
    "from datetime import date\n",
    "from collections import Counter\n",
    "import nltk\n",
    "from nltk.corpus import stopwords\n",
    "from nltk.tokenize import word_tokenize\n",
    "from nltk.stem import WordNetLemmatizer\n",
    "from sklearn.feature_extraction.text import TfidfVectorizer\n",
    "from sklearn.cluster import KMeans\n",
    "from sklearn.metrics import classification_report"
   ]
  },
  {
   "cell_type": "code",
   "execution_count": 2,
   "id": "e57031c0-9686-4f60-a9eb-018cf951bf9b",
   "metadata": {},
   "outputs": [
    {
     "name": "stderr",
     "output_type": "stream",
     "text": [
      "[nltk_data] Downloading package punkt to\n",
      "[nltk_data]     C:\\Users\\muham\\AppData\\Roaming\\nltk_data...\n",
      "[nltk_data]   Package punkt is already up-to-date!\n",
      "[nltk_data] Downloading package stopwords to\n",
      "[nltk_data]     C:\\Users\\muham\\AppData\\Roaming\\nltk_data...\n",
      "[nltk_data]   Package stopwords is already up-to-date!\n",
      "[nltk_data] Downloading package wordnet to\n",
      "[nltk_data]     C:\\Users\\muham\\AppData\\Roaming\\nltk_data...\n",
      "[nltk_data]   Package wordnet is already up-to-date!\n",
      "[nltk_data] Downloading package punkt_tab to\n",
      "[nltk_data]     C:\\Users\\muham\\AppData\\Roaming\\nltk_data...\n",
      "[nltk_data]   Package punkt_tab is already up-to-date!\n"
     ]
    },
    {
     "data": {
      "text/plain": [
       "True"
      ]
     },
     "execution_count": 2,
     "metadata": {},
     "output_type": "execute_result"
    }
   ],
   "source": [
    "nltk.download('punkt')\n",
    "nltk.download('stopwords')\n",
    "nltk.download('wordnet')\n",
    "nltk.download('punkt_tab')"
   ]
  },
  {
   "cell_type": "code",
   "execution_count": 3,
   "id": "9e254d10-a6f5-4d6c-b9ef-9a0742e6ea69",
   "metadata": {},
   "outputs": [],
   "source": [
    "chunk_size = 100000\n",
    "data = pd.read_csv(\"steam_reviews.csv\", chunksize = chunk_size)\n",
    "\n",
    "cols_toUse = ['app_id', 'app_name', 'review_id', 'language', 'review',\n",
    "       'timestamp_created', 'timestamp_updated', 'recommended',\n",
    "       'votes_helpful', 'weighted_vote_score', 'comment_count',\n",
    "       'steam_purchase', 'received_for_free', 'written_during_early_access',\n",
    "       'author.steamid', 'author.num_reviews', 'author.playtime_forever',\n",
    "        'author.playtime_at_review', 'author.last_played']\n",
    "\n",
    "df_list = []\n",
    "\n",
    "for chunk in data:    \n",
    "    df_list.append(chunk[cols_toUse])\n",
    "    \n",
    "df = pd.concat(df_list, ignore_index=True)"
   ]
  },
  {
   "cell_type": "code",
   "execution_count": 4,
   "id": "791573e4-f2ed-4b2c-af32-b3f98ff27703",
   "metadata": {},
   "outputs": [],
   "source": [
    "df['app_id'] = df['app_id'].astype('int32')\n",
    "df['review_id'] = df['review_id'].astype('int32')\n",
    "df['votes_helpful'] = df['votes_helpful'].astype('int32')\n",
    "df['comment_count'] = df['comment_count'].astype('int32')\n",
    "df['author.num_reviews'] = df['author.num_reviews'].astype('int32')\n",
    "df['weighted_vote_score'] = df['weighted_vote_score'].astype('float32')\n",
    "df['author.playtime_forever'] = df['author.playtime_forever'].astype('float32')\n",
    "df['author.playtime_at_review'] = df['author.playtime_at_review'].astype('float32')"
   ]
  },
  {
   "cell_type": "code",
   "execution_count": 5,
   "id": "de5bf81d-0593-487f-a06d-a168ab2614c7",
   "metadata": {},
   "outputs": [],
   "source": [
    "df['timestamp_created'] = pd.to_datetime(df['timestamp_created'], unit='s')\n",
    "df['timestamp_updated'] = pd.to_datetime(df['timestamp_updated'], unit='s')\n",
    "df['author.last_played'] = pd.to_datetime(df['author.last_played'], unit='s')"
   ]
  },
  {
   "cell_type": "code",
   "execution_count": 6,
   "id": "bc330456-d3da-4bec-ab43-ebe817331c9e",
   "metadata": {},
   "outputs": [],
   "source": [
    "df.dropna(subset=['review'], inplace=True, ignore_index=True, axis=0)\n",
    "df.drop_duplicates(subset=['review', 'review_id'], inplace=True, ignore_index=True)"
   ]
  },
  {
   "cell_type": "code",
   "execution_count": 7,
   "id": "708cbc36-6512-4581-999e-ac18ede9bcdc",
   "metadata": {},
   "outputs": [
    {
     "name": "stdout",
     "output_type": "stream",
     "text": [
      "Total number of invalid rows: 31829\n"
     ]
    }
   ],
   "source": [
    "cond = df['author.playtime_at_review'] <= df['author.playtime_forever']\n",
    "\n",
    "df['valid_playtime'] = cond\n",
    "\n",
    "invalid_rows_cnt = (~df['valid_playtime']).sum()\n",
    "\n",
    "print(f\"Total number of invalid rows: {invalid_rows_cnt}\")"
   ]
  },
  {
   "cell_type": "code",
   "execution_count": 8,
   "id": "0afc6e71-ef80-4a9d-bdf8-31767d684ffd",
   "metadata": {},
   "outputs": [],
   "source": [
    "# Dropping the invalid rows where valid_playtime is False\n",
    "df = df[df['valid_playtime']]\n",
    "\n",
    "# Dropping the 'valid_playtime' column since it's no longer needed\n",
    "df = df.drop(columns=['valid_playtime'])"
   ]
  },
  {
   "cell_type": "code",
   "execution_count": 9,
   "id": "be79084b-6cf3-4f4c-a533-5090a5d55f03",
   "metadata": {},
   "outputs": [],
   "source": [
    "df = df[df['language'] == 'english'][['app_id', 'app_name', 'review_id', 'language', 'review', 'recommended', 'votes_helpful']]"
   ]
  },
  {
   "cell_type": "code",
   "execution_count": 10,
   "id": "2a5869de-78fd-4e20-858b-0be1ae4a765d",
   "metadata": {},
   "outputs": [],
   "source": [
    "df.reset_index(drop=True, inplace=True)"
   ]
  },
  {
   "cell_type": "code",
   "execution_count": 11,
   "id": "23e32345-53f2-4849-aaa7-69ff71a8e3f2",
   "metadata": {},
   "outputs": [
    {
     "data": {
      "text/plain": [
       "Index(['app_id', 'app_name', 'review_id', 'language', 'review', 'recommended',\n",
       "       'votes_helpful'],\n",
       "      dtype='object')"
      ]
     },
     "execution_count": 11,
     "metadata": {},
     "output_type": "execute_result"
    }
   ],
   "source": [
    "df.columns"
   ]
  },
  {
   "cell_type": "code",
   "execution_count": 12,
   "id": "bec47ade-472e-43be-81b8-412197ec6a43",
   "metadata": {},
   "outputs": [
    {
     "name": "stdout",
     "output_type": "stream",
     "text": [
      "<class 'pandas.core.frame.DataFrame'>\n",
      "RangeIndex: 9548452 entries, 0 to 9548451\n",
      "Data columns (total 7 columns):\n",
      " #   Column         Dtype \n",
      "---  ------         ----- \n",
      " 0   app_id         int32 \n",
      " 1   app_name       object\n",
      " 2   review_id      int32 \n",
      " 3   language       object\n",
      " 4   review         object\n",
      " 5   recommended    bool  \n",
      " 6   votes_helpful  int32 \n",
      "dtypes: bool(1), int32(3), object(3)\n",
      "memory usage: 336.9+ MB\n"
     ]
    }
   ],
   "source": [
    "df.info()"
   ]
  },
  {
   "cell_type": "markdown",
   "id": "8cdc0fd5-5e93-4a07-97f7-afc3f755a4a3",
   "metadata": {},
   "source": [
    "# KMEANS Clusterting"
   ]
  },
  {
   "cell_type": "code",
   "execution_count": 13,
   "id": "98f42fba-0bf2-4af1-9034-4064e4de9bad",
   "metadata": {},
   "outputs": [
    {
     "name": "stdout",
     "output_type": "stream",
     "text": [
      "                                                    review sentiment\n",
      "0        One of the best RPG's of all time, worthy of a...  negative\n",
      "1                   good story, good graphics. lots to do.  positive\n",
      "2                                                 dis gud,  negative\n",
      "3        favorite game of all time cant wait for the Ne...  negative\n",
      "4                                Why wouldn't you get this  negative\n",
      "...                                                    ...       ...\n",
      "9548447                                   best game ever\\n  negative\n",
      "9548448                                         Holy balls  negative\n",
      "9548449  A tripod thing bears down on you, it looks imm...  negative\n",
      "9548450             Honestly this is the best vr game ever  negative\n",
      "9548451  Smooth turning is not working right now.\\nIt a...  negative\n",
      "\n",
      "[9548452 rows x 2 columns]\n"
     ]
    }
   ],
   "source": [
    "\n",
    "# Define a function for text preprocessing\n",
    "def preprocess_text(text):\n",
    "    # Convert text to lowercase\n",
    "    text = text.lower()\n",
    "    # Tokenization\n",
    "    tokens = word_tokenize(text)\n",
    "    # Remove stopwords\n",
    "    stop_words = set(stopwords.words('english'))\n",
    "    filtered_tokens = [word for word in tokens if word not in stop_words]\n",
    "    # Lemmatization\n",
    "    lemmatizer = WordNetLemmatizer()\n",
    "    lemmatized_tokens = [lemmatizer.lemmatize(word) for word in filtered_tokens]\n",
    "    # Join the tokens back into a single string\n",
    "    preprocessed_text = ' '.join(lemmatized_tokens)\n",
    "    return preprocessed_text\n",
    "\n",
    "# Preprocess the 'title' column\n",
    "df['preprocessed_review'] = df['review'].apply(preprocess_text)\n",
    "\n",
    "# Vectorize the preprocessed text using TF-IDF\n",
    "tfidf_vectorizer = TfidfVectorizer()\n",
    "X = tfidf_vectorizer.fit_transform(df['preprocessed_review'])\n",
    "\n",
    "# Perform K-means clustering\n",
    "kmeans = KMeans(n_clusters=3, random_state=42)\n",
    "df['cluster'] = kmeans.fit_predict(X)\n",
    "\n",
    "# Assign sentiment labels based on the clusters\n",
    "df['sentiment'] = df['cluster'].map({0: 'positive', 1: 'negative', 2: 'neutral'})\n",
    "\n",
    "# Evaluate the clustering results\n",
    "print(df[['review', 'sentiment']])"
   ]
  },
  {
   "cell_type": "code",
   "execution_count": 17,
   "id": "45694900-cfd6-4ac7-bbbc-1457728169e3",
   "metadata": {},
   "outputs": [
    {
     "data": {
      "text/html": [
       "<div>\n",
       "<style scoped>\n",
       "    .dataframe tbody tr th:only-of-type {\n",
       "        vertical-align: middle;\n",
       "    }\n",
       "\n",
       "    .dataframe tbody tr th {\n",
       "        vertical-align: top;\n",
       "    }\n",
       "\n",
       "    .dataframe thead th {\n",
       "        text-align: right;\n",
       "    }\n",
       "</style>\n",
       "<table border=\"1\" class=\"dataframe\">\n",
       "  <thead>\n",
       "    <tr style=\"text-align: right;\">\n",
       "      <th></th>\n",
       "      <th>review</th>\n",
       "      <th>recommended</th>\n",
       "      <th>sentiment</th>\n",
       "    </tr>\n",
       "  </thead>\n",
       "  <tbody>\n",
       "    <tr>\n",
       "      <th>8713517</th>\n",
       "      <td>[h1]Best Total War Title- A Must Have[/h1]\\n\\n...</td>\n",
       "      <td>True</td>\n",
       "      <td>negative</td>\n",
       "    </tr>\n",
       "    <tr>\n",
       "      <th>1091984</th>\n",
       "      <td>Fun multiplayer game</td>\n",
       "      <td>True</td>\n",
       "      <td>neutral</td>\n",
       "    </tr>\n",
       "    <tr>\n",
       "      <th>4377069</th>\n",
       "      <td>Great RPG good for kids 9+ age. Pixels give ni...</td>\n",
       "      <td>True</td>\n",
       "      <td>negative</td>\n",
       "    </tr>\n",
       "    <tr>\n",
       "      <th>1747805</th>\n",
       "      <td>very cool rimworld</td>\n",
       "      <td>True</td>\n",
       "      <td>negative</td>\n",
       "    </tr>\n",
       "    <tr>\n",
       "      <th>7298037</th>\n",
       "      <td>The price for this game is too high, avoid buy...</td>\n",
       "      <td>False</td>\n",
       "      <td>negative</td>\n",
       "    </tr>\n",
       "  </tbody>\n",
       "</table>\n",
       "</div>"
      ],
      "text/plain": [
       "                                                    review  recommended  \\\n",
       "8713517  [h1]Best Total War Title- A Must Have[/h1]\\n\\n...         True   \n",
       "1091984                               Fun multiplayer game         True   \n",
       "4377069  Great RPG good for kids 9+ age. Pixels give ni...         True   \n",
       "1747805                                 very cool rimworld         True   \n",
       "7298037  The price for this game is too high, avoid buy...        False   \n",
       "\n",
       "        sentiment  \n",
       "8713517  negative  \n",
       "1091984   neutral  \n",
       "4377069  negative  \n",
       "1747805  negative  \n",
       "7298037  negative  "
      ]
     },
     "execution_count": 17,
     "metadata": {},
     "output_type": "execute_result"
    }
   ],
   "source": [
    "df[['review','recommended','sentiment']].sample(5)"
   ]
  },
  {
   "cell_type": "markdown",
   "id": "068fe966-1b7e-401d-9839-20e3551cde21",
   "metadata": {},
   "source": [
    "# Logistic Regression"
   ]
  },
  {
   "cell_type": "code",
   "execution_count": 18,
   "id": "73761929-5968-4d1a-b5a9-9e36bff14b3d",
   "metadata": {},
   "outputs": [],
   "source": [
    "sampledf = df.sample(frac=0.10, replace=False, random_state=0, ignore_index=True)\n",
    "del df"
   ]
  },
  {
   "cell_type": "code",
   "execution_count": 20,
   "id": "7ba77e53-d526-4056-ac2e-29555ea91eb5",
   "metadata": {},
   "outputs": [],
   "source": [
    "import pandas as pd\n",
    "import numpy as np\n",
    "\n",
    "import matplotlib.pyplot as plt\n",
    "%matplotlib inline\n",
    "import seaborn as sns\n",
    "\n",
    "from sklearn.feature_extraction.text import CountVectorizer\n",
    "\n",
    "from sklearn.neighbors import KNeighborsClassifier\n",
    "from sklearn.tree import DecisionTreeClassifier\n",
    "from sklearn.ensemble import RandomForestClassifier\n",
    "from sklearn.linear_model import LogisticRegression\n",
    "from sklearn.naive_bayes import MultinomialNB\n",
    "\n",
    "from sklearn.metrics import accuracy_score,precision_score,recall_score,f1_score\n",
    "\n",
    "k=KNeighborsClassifier()\n",
    "d=DecisionTreeClassifier()\n",
    "r=RandomForestClassifier()\n",
    "l=LogisticRegression()\n",
    "mb=MultinomialNB()\n",
    "    \n",
    "from sklearn.model_selection import train_test_split\n",
    "\n",
    "from wordcloud import WordCloud, STOPWORDS\n",
    "from PIL import Image\n",
    "\n",
    "from textblob import TextBlob\n",
    "\n",
    "import warnings\n",
    "warnings.filterwarnings('ignore')"
   ]
  },
  {
   "cell_type": "code",
   "execution_count": 21,
   "id": "10a44975-24e2-43a4-993b-cc089c040c97",
   "metadata": {},
   "outputs": [],
   "source": [
    "sampledf[\"review\"]=sampledf[\"review\"].str.lower() #We convert our texts to lowercase.\n",
    "sampledf[\"review\"]=sampledf[\"review\"].str.replace(\"[^\\w\\s]\",\"\") #We remove punctuation marks from our texts.\n",
    "sampledf[\"review\"]=sampledf[\"review\"].str.replace(\"\\d+\",\"\") #We are removing numbers from our texts.\n",
    "sampledf[\"review\"]=sampledf[\"review\"].str.replace(\"\\n\",\"\").replace(\"\\r\",\"\") #We remove spaces in our texts.\n",
    "df_positive=sampledf[sampledf['recommended']==True]\n",
    "df_negative=sampledf[sampledf['recommended']==False]"
   ]
  },
  {
   "cell_type": "code",
   "execution_count": 22,
   "id": "c87786a2-3cb7-4e8c-a5c3-88625b1424db",
   "metadata": {},
   "outputs": [],
   "source": [
    "vect=CountVectorizer(lowercase=True,stop_words=\"english\")\n",
    "x=sampledf.review\n",
    "y=sampledf.recommended\n",
    "x=vect.fit_transform(x)"
   ]
  },
  {
   "cell_type": "code",
   "execution_count": 23,
   "id": "074c20a3-bdc7-471c-9261-0b73c570c706",
   "metadata": {},
   "outputs": [],
   "source": [
    "def sentiment_classification_funct(x,y):\n",
    "    x_train,x_test,y_train,y_test=train_test_split(x,y,test_size=0.2,random_state=60)\n",
    "    \n",
    "    print(x_train.shape,x_test.shape,y_train.shape,y_test.shape)\n",
    "    \n",
    "    k=KNeighborsClassifier()\n",
    "    d=DecisionTreeClassifier()\n",
    "    r=RandomForestClassifier()\n",
    "    l=LogisticRegression()\n",
    "    mb=MultinomialNB()\n",
    "    \n",
    "    algos=[l]\n",
    "    algo_names=['LogisticRegression']\n",
    "    \n",
    "    accuracy_scored=[]\n",
    "    precision_scored=[]\n",
    "    recall_scored=[]\n",
    "    f1_scored=[]\n",
    "    \n",
    "    for item in algos:\n",
    "        item.fit(x_train,y_train)\n",
    "        accuracy_scored.append(accuracy_score(y_test,item.predict(x_test)))\n",
    "        precision_scored.append(precision_score(y_test,item.predict(x_test)))\n",
    "        recall_scored.append(recall_score(y_test,item.predict(x_test)))\n",
    "        f1_scored.append(f1_score(y_test,item.predict(x_test)))\n",
    "        \n",
    "    result=pd.DataFrame(columns=['f1_score','recall_score','precision_score','accuracy_score'],index=algo_names)\n",
    "    result.f1_score=f1_scored\n",
    "    result.recall_score=recall_scored\n",
    "    result.precision_score=precision_scored\n",
    "    result.accuracy_score=accuracy_scored\n",
    "    sentiment_classification_funct.result=result.sort_values('f1_score',ascending=False)\n",
    "    return result.sort_values('f1_score',ascending=False)"
   ]
  },
  {
   "cell_type": "code",
   "execution_count": 24,
   "id": "d64a65c9-e27d-442e-8df3-c5be701752e5",
   "metadata": {},
   "outputs": [
    {
     "name": "stdout",
     "output_type": "stream",
     "text": [
      "(763876, 328041) (190969, 328041) (763876,) (190969,)\n"
     ]
    },
    {
     "data": {
      "text/html": [
       "<div>\n",
       "<style scoped>\n",
       "    .dataframe tbody tr th:only-of-type {\n",
       "        vertical-align: middle;\n",
       "    }\n",
       "\n",
       "    .dataframe tbody tr th {\n",
       "        vertical-align: top;\n",
       "    }\n",
       "\n",
       "    .dataframe thead th {\n",
       "        text-align: right;\n",
       "    }\n",
       "</style>\n",
       "<table border=\"1\" class=\"dataframe\">\n",
       "  <thead>\n",
       "    <tr style=\"text-align: right;\">\n",
       "      <th></th>\n",
       "      <th>f1_score</th>\n",
       "      <th>recall_score</th>\n",
       "      <th>precision_score</th>\n",
       "      <th>accuracy_score</th>\n",
       "    </tr>\n",
       "  </thead>\n",
       "  <tbody>\n",
       "    <tr>\n",
       "      <th>LogisticRegression</th>\n",
       "      <td>0.96066</td>\n",
       "      <td>0.983933</td>\n",
       "      <td>0.938462</td>\n",
       "      <td>0.928219</td>\n",
       "    </tr>\n",
       "  </tbody>\n",
       "</table>\n",
       "</div>"
      ],
      "text/plain": [
       "                    f1_score  recall_score  precision_score  accuracy_score\n",
       "LogisticRegression   0.96066      0.983933         0.938462        0.928219"
      ]
     },
     "execution_count": 24,
     "metadata": {},
     "output_type": "execute_result"
    }
   ],
   "source": [
    "sentiment_classification_funct(x,y)"
   ]
  },
  {
   "cell_type": "code",
   "execution_count": 31,
   "id": "85b9178c-4ad3-4a1a-93bd-e4d3bf761696",
   "metadata": {},
   "outputs": [],
   "source": [
    "def wc(data,bgcolor):\n",
    "    plt.figure(figsize=(10,10))\n",
    "    mask=np.array(Image.open(\"Steam.png\"))\n",
    "    wc=WordCloud(background_color=bgcolor,stopwords=STOPWORDS,mask=mask).generate(\" \".join(data))\n",
    "   # wc.generate(\" \".join(data))\n",
    "    plt.imshow(wc)\n",
    "    plt.axis(\"off\")\n",
    "#We draw the most used words in texts on a steam logo."
   ]
  },
  {
   "cell_type": "code",
   "execution_count": null,
   "id": "f5ee3f91-0599-4d99-9340-407967c1a959",
   "metadata": {},
   "outputs": [],
   "source": [
    "wc = \n",
    "plt.axis(\"off\")\n",
    "plt.imshow(wc)"
   ]
  },
  {
   "cell_type": "code",
   "execution_count": 32,
   "id": "6f22d285-561c-45a8-8ab4-2430cbacf3c1",
   "metadata": {},
   "outputs": [],
   "source": [
    "(wc(df_positive.review,\"white\"))##Positive"
   ]
  },
  {
   "cell_type": "code",
   "execution_count": 33,
   "id": "7721890e-d19a-4679-b83b-88883e83d225",
   "metadata": {},
   "outputs": [
    {
     "data": {
      "text/plain": [
       "(np.float64(-0.5), np.float64(1173.5), np.float64(364.5), np.float64(-0.5))"
      ]
     },
     "execution_count": 33,
     "metadata": {},
     "output_type": "execute_result"
    }
   ],
   "source": [
    "plt.figure(figsize=(10,10))\n",
    "mask=np.array(Image.open(\"Steam.png\"))\n",
    "wc=WordCloud(background_color='white',stopwords=STOPWORDS,mask=mask).generate(\" \".join(df_positive.review))\n",
    "# wc.generate(\" \".join(data))\n",
    "plt.imshow(wc)\n",
    "plt.axis(\"off\")"
   ]
  },
  {
   "cell_type": "code",
   "execution_count": null,
   "id": "23f1c999-f9b4-40b4-a65b-73faea843ca9",
   "metadata": {},
   "outputs": [],
   "source": [
    "wc(df_negative.review,\"white\")##Negative"
   ]
  },
  {
   "cell_type": "code",
   "execution_count": 34,
   "id": "d3dc42ca-ddc9-4a41-8c3e-f0a47b82981a",
   "metadata": {},
   "outputs": [],
   "source": [
    "sent=sampledf[[\"recommended\",\"review\"]]"
   ]
  },
  {
   "cell_type": "code",
   "execution_count": 35,
   "id": "4f03a81a-fd8a-483c-81fb-d894e96b5e02",
   "metadata": {},
   "outputs": [],
   "source": [
    "def detect_sentiment(review):\n",
    "    return TextBlob(review).sentiment.polarity\n",
    "#We are doing our sentiment analysis."
   ]
  },
  {
   "cell_type": "code",
   "execution_count": 36,
   "id": "ff6300bd-54c9-42b2-a40c-634d82e5a6a7",
   "metadata": {},
   "outputs": [
    {
     "data": {
      "text/html": [
       "<div>\n",
       "<style scoped>\n",
       "    .dataframe tbody tr th:only-of-type {\n",
       "        vertical-align: middle;\n",
       "    }\n",
       "\n",
       "    .dataframe tbody tr th {\n",
       "        vertical-align: top;\n",
       "    }\n",
       "\n",
       "    .dataframe thead th {\n",
       "        text-align: right;\n",
       "    }\n",
       "</style>\n",
       "<table border=\"1\" class=\"dataframe\">\n",
       "  <thead>\n",
       "    <tr style=\"text-align: right;\">\n",
       "      <th></th>\n",
       "      <th>recommended</th>\n",
       "      <th>review</th>\n",
       "      <th>sentiment</th>\n",
       "    </tr>\n",
       "  </thead>\n",
       "  <tbody>\n",
       "    <tr>\n",
       "      <th>0</th>\n",
       "      <td>True</td>\n",
       "      <td>reviewed for summer sale</td>\n",
       "      <td>0.000000</td>\n",
       "    </tr>\n",
       "    <tr>\n",
       "      <th>1</th>\n",
       "      <td>True</td>\n",
       "      <td>liked it</td>\n",
       "      <td>0.600000</td>\n",
       "    </tr>\n",
       "    <tr>\n",
       "      <th>2</th>\n",
       "      <td>True</td>\n",
       "      <td>just amazing!</td>\n",
       "      <td>0.750000</td>\n",
       "    </tr>\n",
       "    <tr>\n",
       "      <th>3</th>\n",
       "      <td>True</td>\n",
       "      <td>this remake is considerably better than most o...</td>\n",
       "      <td>0.086706</td>\n",
       "    </tr>\n",
       "    <tr>\n",
       "      <th>4</th>\n",
       "      <td>True</td>\n",
       "      <td>addiction. addiction. addiction. flying. goals...</td>\n",
       "      <td>-0.066667</td>\n",
       "    </tr>\n",
       "  </tbody>\n",
       "</table>\n",
       "</div>"
      ],
      "text/plain": [
       "   recommended                                             review  sentiment\n",
       "0         True                           reviewed for summer sale   0.000000\n",
       "1         True                                           liked it   0.600000\n",
       "2         True                                      just amazing!   0.750000\n",
       "3         True  this remake is considerably better than most o...   0.086706\n",
       "4         True  addiction. addiction. addiction. flying. goals...  -0.066667"
      ]
     },
     "execution_count": 36,
     "metadata": {},
     "output_type": "execute_result"
    }
   ],
   "source": [
    "sent[\"sentiment\"]=sent[\"review\"].apply(detect_sentiment)\n",
    "sent.head()"
   ]
  },
  {
   "cell_type": "code",
   "execution_count": 37,
   "id": "33da9c5b-3b70-4e74-9550-f834f386241e",
   "metadata": {},
   "outputs": [],
   "source": [
    "def sentiment2(sent):\n",
    "    if (sent< -0.02):\n",
    "        return 3\n",
    "    elif sent>0.02:\n",
    "        return 1\n",
    "    else:\n",
    "        return 0\n",
    "#We divide the texts into three groups positive, negative and nötr."
   ]
  },
  {
   "cell_type": "code",
   "execution_count": 40,
   "id": "a4b68430-5717-4e2c-a045-f508aecc1009",
   "metadata": {},
   "outputs": [
    {
     "data": {
      "text/html": [
       "<div>\n",
       "<style scoped>\n",
       "    .dataframe tbody tr th:only-of-type {\n",
       "        vertical-align: middle;\n",
       "    }\n",
       "\n",
       "    .dataframe tbody tr th {\n",
       "        vertical-align: top;\n",
       "    }\n",
       "\n",
       "    .dataframe thead th {\n",
       "        text-align: right;\n",
       "    }\n",
       "</style>\n",
       "<table border=\"1\" class=\"dataframe\">\n",
       "  <thead>\n",
       "    <tr style=\"text-align: right;\">\n",
       "      <th></th>\n",
       "      <th>recommended</th>\n",
       "      <th>review</th>\n",
       "      <th>sentiment</th>\n",
       "      <th>sent</th>\n",
       "    </tr>\n",
       "  </thead>\n",
       "  <tbody>\n",
       "    <tr>\n",
       "      <th>196697</th>\n",
       "      <td>True</td>\n",
       "      <td>i loved the story, so emotional and i am so lo...</td>\n",
       "      <td>0.233333</td>\n",
       "      <td>1</td>\n",
       "    </tr>\n",
       "    <tr>\n",
       "      <th>450857</th>\n",
       "      <td>False</td>\n",
       "      <td>https://steamcharts.com/search/?q=totally+accu...</td>\n",
       "      <td>-0.350000</td>\n",
       "      <td>3</td>\n",
       "    </tr>\n",
       "    <tr>\n",
       "      <th>130049</th>\n",
       "      <td>True</td>\n",
       "      <td>cry like a bitch, mom grounds you for the nigh...</td>\n",
       "      <td>0.000000</td>\n",
       "      <td>0</td>\n",
       "    </tr>\n",
       "    <tr>\n",
       "      <th>5507</th>\n",
       "      <td>True</td>\n",
       "      <td>dinosaurs!!!!!!!!!!</td>\n",
       "      <td>0.000000</td>\n",
       "      <td>0</td>\n",
       "    </tr>\n",
       "    <tr>\n",
       "      <th>817950</th>\n",
       "      <td>True</td>\n",
       "      <td>redefining vr gaming - valve has done it again...</td>\n",
       "      <td>0.341364</td>\n",
       "      <td>1</td>\n",
       "    </tr>\n",
       "    <tr>\n",
       "      <th>292451</th>\n",
       "      <td>True</td>\n",
       "      <td>while i'm not a fan of the comics or show, i f...</td>\n",
       "      <td>0.300000</td>\n",
       "      <td>1</td>\n",
       "    </tr>\n",
       "    <tr>\n",
       "      <th>10619</th>\n",
       "      <td>True</td>\n",
       "      <td>good</td>\n",
       "      <td>0.700000</td>\n",
       "      <td>1</td>\n",
       "    </tr>\n",
       "    <tr>\n",
       "      <th>75588</th>\n",
       "      <td>False</td>\n",
       "      <td>i was going to recommend buying this game when...</td>\n",
       "      <td>-0.262857</td>\n",
       "      <td>3</td>\n",
       "    </tr>\n",
       "    <tr>\n",
       "      <th>141737</th>\n",
       "      <td>True</td>\n",
       "      <td>good game</td>\n",
       "      <td>0.150000</td>\n",
       "      <td>1</td>\n",
       "    </tr>\n",
       "    <tr>\n",
       "      <th>126837</th>\n",
       "      <td>True</td>\n",
       "      <td>bought purely for the instruments</td>\n",
       "      <td>0.214286</td>\n",
       "      <td>1</td>\n",
       "    </tr>\n",
       "    <tr>\n",
       "      <th>152463</th>\n",
       "      <td>True</td>\n",
       "      <td>just watching the trailers makes me excited.</td>\n",
       "      <td>0.375000</td>\n",
       "      <td>1</td>\n",
       "    </tr>\n",
       "    <tr>\n",
       "      <th>857147</th>\n",
       "      <td>False</td>\n",
       "      <td>game still isn't worth playing. even after ser...</td>\n",
       "      <td>-0.050000</td>\n",
       "      <td>3</td>\n",
       "    </tr>\n",
       "    <tr>\n",
       "      <th>45960</th>\n",
       "      <td>True</td>\n",
       "      <td>it's short and sweet with cute demon girls and...</td>\n",
       "      <td>0.287500</td>\n",
       "      <td>1</td>\n",
       "    </tr>\n",
       "    <tr>\n",
       "      <th>488726</th>\n",
       "      <td>True</td>\n",
       "      <td>short, sweet, solid writing &amp; great action. th...</td>\n",
       "      <td>0.250000</td>\n",
       "      <td>1</td>\n",
       "    </tr>\n",
       "    <tr>\n",
       "      <th>144080</th>\n",
       "      <td>True</td>\n",
       "      <td>if you want to beat your head against a wall o...</td>\n",
       "      <td>-0.275000</td>\n",
       "      <td>3</td>\n",
       "    </tr>\n",
       "    <tr>\n",
       "      <th>897381</th>\n",
       "      <td>True</td>\n",
       "      <td>great gameplay, realistic characters</td>\n",
       "      <td>0.483333</td>\n",
       "      <td>1</td>\n",
       "    </tr>\n",
       "    <tr>\n",
       "      <th>190371</th>\n",
       "      <td>False</td>\n",
       "      <td>it is surprising that even after years of upda...</td>\n",
       "      <td>0.171605</td>\n",
       "      <td>1</td>\n",
       "    </tr>\n",
       "    <tr>\n",
       "      <th>833379</th>\n",
       "      <td>True</td>\n",
       "      <td>this game will haunt me for the rest of my lif...</td>\n",
       "      <td>0.083929</td>\n",
       "      <td>1</td>\n",
       "    </tr>\n",
       "    <tr>\n",
       "      <th>216465</th>\n",
       "      <td>True</td>\n",
       "      <td>game of the year.</td>\n",
       "      <td>-0.400000</td>\n",
       "      <td>3</td>\n",
       "    </tr>\n",
       "    <tr>\n",
       "      <th>459834</th>\n",
       "      <td>True</td>\n",
       "      <td>i just love it</td>\n",
       "      <td>0.500000</td>\n",
       "      <td>1</td>\n",
       "    </tr>\n",
       "  </tbody>\n",
       "</table>\n",
       "</div>"
      ],
      "text/plain": [
       "        recommended                                             review  \\\n",
       "196697         True  i loved the story, so emotional and i am so lo...   \n",
       "450857        False  https://steamcharts.com/search/?q=totally+accu...   \n",
       "130049         True  cry like a bitch, mom grounds you for the nigh...   \n",
       "5507           True                                dinosaurs!!!!!!!!!!   \n",
       "817950         True  redefining vr gaming - valve has done it again...   \n",
       "292451         True  while i'm not a fan of the comics or show, i f...   \n",
       "10619          True                                               good   \n",
       "75588         False  i was going to recommend buying this game when...   \n",
       "141737         True                                          good game   \n",
       "126837         True                  bought purely for the instruments   \n",
       "152463         True       just watching the trailers makes me excited.   \n",
       "857147        False  game still isn't worth playing. even after ser...   \n",
       "45960          True  it's short and sweet with cute demon girls and...   \n",
       "488726         True  short, sweet, solid writing & great action. th...   \n",
       "144080         True  if you want to beat your head against a wall o...   \n",
       "897381         True               great gameplay, realistic characters   \n",
       "190371        False  it is surprising that even after years of upda...   \n",
       "833379         True  this game will haunt me for the rest of my lif...   \n",
       "216465         True                                  game of the year.   \n",
       "459834         True                                     i just love it   \n",
       "\n",
       "        sentiment  sent  \n",
       "196697   0.233333     1  \n",
       "450857  -0.350000     3  \n",
       "130049   0.000000     0  \n",
       "5507     0.000000     0  \n",
       "817950   0.341364     1  \n",
       "292451   0.300000     1  \n",
       "10619    0.700000     1  \n",
       "75588   -0.262857     3  \n",
       "141737   0.150000     1  \n",
       "126837   0.214286     1  \n",
       "152463   0.375000     1  \n",
       "857147  -0.050000     3  \n",
       "45960    0.287500     1  \n",
       "488726   0.250000     1  \n",
       "144080  -0.275000     3  \n",
       "897381   0.483333     1  \n",
       "190371   0.171605     1  \n",
       "833379   0.083929     1  \n",
       "216465  -0.400000     3  \n",
       "459834   0.500000     1  "
      ]
     },
     "execution_count": 40,
     "metadata": {},
     "output_type": "execute_result"
    }
   ],
   "source": [
    "sent[\"sent\"]=sent[\"sentiment\"].apply(sentiment2)\n",
    "sent.sample(20)"
   ]
  },
  {
   "cell_type": "code",
   "execution_count": null,
   "id": "f3f4162a-6b67-48ab-bb0f-51ecd750132f",
   "metadata": {},
   "outputs": [],
   "source": []
  }
 ],
 "metadata": {
  "kernelspec": {
   "display_name": "Python 3 (ipykernel)",
   "language": "python",
   "name": "python3"
  },
  "language_info": {
   "codemirror_mode": {
    "name": "ipython",
    "version": 3
   },
   "file_extension": ".py",
   "mimetype": "text/x-python",
   "name": "python",
   "nbconvert_exporter": "python",
   "pygments_lexer": "ipython3",
   "version": "3.12.7"
  }
 },
 "nbformat": 4,
 "nbformat_minor": 5
}
